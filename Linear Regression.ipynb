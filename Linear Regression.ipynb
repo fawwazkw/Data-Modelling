{
 "cells": [
  {
   "cell_type": "code",
   "execution_count": 20,
   "metadata": {},
   "outputs": [],
   "source": [
    "import pandas as pd\n",
    "import numpy as np\n",
    "from sklearn.model_selection import train_test_split\n",
    "from sklearn.linear_model import LinearRegression\n",
    "from sklearn.ensemble import RandomForestRegressor, GradientBoostingRegressor\n",
    "import xgboost as xgb\n",
    "import lightgbm as lgb\n",
    "from sklearn.neural_network import MLPRegressor\n",
    "from sklearn.preprocessing import StandardScaler, MinMaxScaler, OneHotEncoder\n",
    "from sklearn.compose import ColumnTransformer\n",
    "from sklearn.impute import SimpleImputer\n",
    "from sklearn.metrics import mean_absolute_error, mean_squared_error, r2_score\n",
    "from sklearn.pipeline import Pipeline\n",
    "from sklearn.feature_selection import SelectKBest, f_regression\n",
    "import seaborn as sns\n",
    "import matplotlib.pyplot as plt\n",
    "import numpy as np\n",
    "import pandas as pd\n",
    "from sklearn.pipeline import Pipeline\n",
    "from sklearn.compose import ColumnTransformer\n",
    "from sklearn.preprocessing import OneHotEncoder, MinMaxScaler\n",
    "from sklearn.impute import SimpleImputer\n",
    "from sklearn.feature_selection import SelectKBest, f_regression\n",
    "from sklearn.linear_model import LinearRegression\n",
    "from sklearn.ensemble import RandomForestRegressor, GradientBoostingRegressor\n",
    "from sklearn.neural_network import MLPRegressor\n",
    "from sklearn.model_selection import train_test_split\n",
    "from sklearn.metrics import mean_absolute_error, mean_squared_error, r2_score\n",
    "import xgboost as xgb\n",
    "import lightgbm as lgb"
   ]
  },
  {
   "cell_type": "code",
   "execution_count": 21,
   "metadata": {},
   "outputs": [],
   "source": [
    "# Load dataset (gantilah dengan path yang sesuai)\n",
    "df = pd.read_csv('Data Scientist - Assignment.csv')\n",
    "\n",
    "# Menghapus baris dengan FICO Score < 300\n",
    "df = df[df['FICO Score'] >= 300]\n",
    "\n",
    "# Menghapus baris yang memiliki semua nilai NaN\n",
    "df = df.dropna(how='all')"
   ]
  },
  {
   "cell_type": "code",
   "execution_count": 22,
   "metadata": {},
   "outputs": [
    {
     "data": {
      "text/plain": [
       "(52955, 23)"
      ]
     },
     "execution_count": 22,
     "metadata": {},
     "output_type": "execute_result"
    }
   ],
   "source": [
    "df.shape"
   ]
  },
  {
   "cell_type": "code",
   "execution_count": 23,
   "metadata": {},
   "outputs": [],
   "source": [
    "# Memilih fitur dan target\n",
    "features = ['Loan To Value', 'Branch ID', 'Age', 'Employment Type', 'Number of Accounts',\n",
    "            'Number of Active Accounts', 'Number of Overdue Accounts', 'Current Balance Amount',\n",
    "            'Sanctioned Amount', 'Disbursed Amount', 'Instalment Amount',\n",
    "            'Number of Accounts Opened Last 6 Months', 'Number of Delinquencies Last 6 Months',\n",
    "            'Average Account Age', 'Number of Inquiries']\n",
    "\n",
    "target = 'FICO Score'\n",
    "\n",
    "# Memisahkan fitur dan target\n",
    "X = df[features]\n",
    "y = df[target]"
   ]
  },
  {
   "cell_type": "code",
   "execution_count": 24,
   "metadata": {},
   "outputs": [],
   "source": [
    "# Daftar fitur yang akan digunakan\n",
    "categorical_features = ['Employment Type']  # Fitur kategorikal yang perlu encoding\n",
    "numeric_features = list(set(features) - set(categorical_features))  # Fitur numerik"
   ]
  },
  {
   "cell_type": "code",
   "execution_count": 25,
   "metadata": {},
   "outputs": [],
   "source": [
    "\n",
    "# Preprocessing: Menangani nilai hilang dan encoding\n",
    "preprocessor = ColumnTransformer(\n",
    "    transformers=[\n",
    "        ('num', Pipeline([\n",
    "            ('imputer', SimpleImputer(strategy='mean')),  # Mengisi nilai kosong dengan rata-rata\n",
    "            ('scaler', MinMaxScaler())  # Normalisasi fitur numerik ke rentang 0-1\n",
    "        ]), numeric_features),\n",
    "        ('cat', Pipeline([\n",
    "            ('imputer', SimpleImputer(strategy='most_frequent')),  # Mengisi nilai kosong dengan nilai paling sering muncul\n",
    "            ('encoder', OneHotEncoder(handle_unknown='ignore'))  # OneHotEncoder untuk fitur kategorikal\n",
    "        ]), categorical_features)\n",
    "    ]\n",
    ")"
   ]
  },
  {
   "cell_type": "code",
   "execution_count": 26,
   "metadata": {},
   "outputs": [],
   "source": [
    "\n",
    "# Feature Selection: Memilih 10 fitur terbaik berdasarkan korelasi dengan target\n",
    "feature_selector = SelectKBest(score_func=f_regression, k=10)\n",
    "\n",
    "# Model pipeline untuk Linear Regression\n",
    "lr_model = Pipeline([\n",
    "    ('preprocessor', preprocessor),\n",
    "    ('feature_selection', feature_selector),\n",
    "    ('regressor', LinearRegression())  # Model regresi linear\n",
    "])\n",
    "\n",
    "# Model pipeline untuk Random Forest Regressor\n",
    "rf_model = Pipeline([\n",
    "    ('preprocessor', preprocessor),\n",
    "    ('feature_selection', feature_selector),\n",
    "    ('regressor', RandomForestRegressor(n_estimators=100, random_state=42))  # Model Random Forest dengan 100 pohon\n",
    "])\n",
    "\n",
    "# Model pipeline untuk Gradient Boosting\n",
    "gb_model = Pipeline([\n",
    "    ('preprocessor', preprocessor),\n",
    "    ('feature_selection', feature_selector),\n",
    "    ('regressor', GradientBoostingRegressor(n_estimators=100, random_state=42))  # Model Gradient Boosting\n",
    "])\n",
    "\n",
    "# Model pipeline untuk XGBoost\n",
    "xgb_model = Pipeline([\n",
    "    ('preprocessor', preprocessor),\n",
    "    ('feature_selection', feature_selector),\n",
    "    ('regressor', xgb.XGBRegressor(n_estimators=100, random_state=42))  # Model XGBoost\n",
    "])\n",
    "\n",
    "# Model pipeline untuk LightGBM\n",
    "lgb_model = Pipeline([\n",
    "    ('preprocessor', preprocessor),\n",
    "    ('feature_selection', feature_selector),\n",
    "    ('regressor', lgb.LGBMRegressor(n_estimators=100, random_state=42))  # Model LightGBM\n",
    "])\n",
    "\n",
    "# Model pipeline untuk Neural Network (MLPRegressor)\n",
    "nn_model = Pipeline([\n",
    "    ('preprocessor', preprocessor),\n",
    "    ('feature_selection', feature_selector),\n",
    "    ('regressor', MLPRegressor(hidden_layer_sizes=(100,50), max_iter=500, random_state=42))  # Neural Network dengan 2 layer (100, 50)\n",
    "])\n"
   ]
  },
  {
   "cell_type": "code",
   "execution_count": null,
   "metadata": {},
   "outputs": [
    {
     "name": "stderr",
     "output_type": "stream",
     "text": [
      "c:\\Users\\Fawwaz Widyadhana\\AppData\\Local\\Programs\\Python\\Python312\\Lib\\site-packages\\sklearn\\utils\\deprecation.py:151: FutureWarning: 'force_all_finite' was renamed to 'ensure_all_finite' in 1.6 and will be removed in 1.8.\n",
      "  warnings.warn(\n"
     ]
    },
    {
     "name": "stdout",
     "output_type": "stream",
     "text": [
      "[LightGBM] [Info] Auto-choosing row-wise multi-threading, the overhead of testing was 0.001806 seconds.\n",
      "You can set `force_row_wise=true` to remove the overhead.\n",
      "And if memory is not enough, you can set `force_col_wise=true`.\n",
      "[LightGBM] [Info] Total Bins 783\n",
      "[LightGBM] [Info] Number of data points in the train set: 42364, number of used features: 10\n",
      "[LightGBM] [Info] Start training from score 655.872297\n"
     ]
    },
    {
     "name": "stderr",
     "output_type": "stream",
     "text": [
      "c:\\Users\\Fawwaz Widyadhana\\AppData\\Local\\Programs\\Python\\Python312\\Lib\\site-packages\\sklearn\\utils\\deprecation.py:151: FutureWarning: 'force_all_finite' was renamed to 'ensure_all_finite' in 1.6 and will be removed in 1.8.\n",
      "  warnings.warn(\n",
      "c:\\Users\\Fawwaz Widyadhana\\AppData\\Local\\Programs\\Python\\Python312\\Lib\\site-packages\\sklearn\\utils\\deprecation.py:151: FutureWarning: 'force_all_finite' was renamed to 'ensure_all_finite' in 1.6 and will be removed in 1.8.\n",
      "  warnings.warn(\n"
     ]
    }
   ],
   "source": [
    "# Membagi dataset menjadi data latih (train) dan uji (test)\n",
    "X_train, X_test, y_train, y_test = train_test_split(X, y, test_size=0.2, random_state=42)\n",
    "\n",
    "# Dictionary untuk menyimpan model\n",
    "models = {\n",
    "    'Linear Regression': lr_model,\n",
    "    'Random Forest': rf_model,\n",
    "    'Gradient Boosting': gb_model,\n",
    "    'XGBoost': xgb_model,\n",
    "    'LightGBM': lgb_model,\n",
    "    'Neural Network': nn_model\n",
    "}\n",
    "\n",
    "# Melatih semua model dan membuat prediksi\n",
    "predictions_train = {}\n",
    "predictions_test = {}\n",
    "\n",
    "for name, model in models.items():\n",
    "    model.fit(X_train, y_train)  # Melatih model\n",
    "    \n",
    "    # Prediksi pada data latih dan uji\n",
    "    predictions_train[name] = model.predict(X_train)\n",
    "    predictions_test[name] = model.predict(X_test)\n",
    "\n",
    "# Evaluasi performa setiap model pada train set dan test set\n",
    "for name in models.keys():\n",
    "    # Evaluasi pada data latih\n",
    "    mae_train = mean_absolute_error(y_train, predictions_train[name])\n",
    "    mse_train = mean_squared_error(y_train, predictions_train[name])\n",
    "    rmse_train = np.sqrt(mse_train)\n",
    "    mape_train = np.mean(np.abs((y_train - predictions_train[name]) / y_train)) * 100\n",
    "    r2_train = r2_score(y_train, predictions_train[name])\n",
    "\n",
    "    # Evaluasi pada data uji\n",
    "    mae_test = mean_absolute_error(y_test, predictions_test[name])\n",
    "    mse_test = mean_squared_error(y_test, predictions_test[name])\n",
    "    rmse_test = np.sqrt(mse_test)\n",
    "    mape_test = np.mean(np.abs((y_test - predictions_test[name]) / y_test)) * 100\n",
    "    r2_test = r2_score(y_test, predictions_test[name])\n",
    "\n",
    "    # Menampilkan hasil evaluasi \n",
    "    print(f'=== {name} ===')\n",
    "    print(f'Train Set:')\n",
    "    print(f'  MAE : {mae_train:.2f}')\n",
    "    print(f'  MSE : {mse_train:.2f}')\n",
    "    print(f'  RMSE: {rmse_train:.2f}')\n",
    "    print(f'  MAPE: {mape_train:.2f}%')\n",
    "    print(f'  R²  : {r2_train:.2f}')\n",
    "    \n",
    "    print(f'Test Set:')\n",
    "    print(f'  MAE : {mae_test:.2f}')\n",
    "    print(f'  MSE : {mse_test:.2f}')\n",
    "    print(f'  RMSE: {rmse_test:.2f}')\n",
    "    print(f'  MAPE: {mape_test:.2f}%')\n",
    "    print(f'  R²  : {r2_test:.2f}')\n",
    "    print('\\n')\n"
   ]
  },
  {
   "cell_type": "code",
   "execution_count": 28,
   "metadata": {},
   "outputs": [
    {
     "name": "stdout",
     "output_type": "stream",
     "text": [
      "       Actual FICO Score  Predicted FICO Score Predicted Category\n",
      "42289                762            708.189747               Good\n",
      "25064                511            560.037568               Poor\n",
      "51376                738            712.271674               Good\n",
      "4652                 706            711.315032               Good\n",
      "9536                 825            716.898530               Good\n"
     ]
    }
   ],
   "source": [
    "\n",
    "# Fungsi untuk mengonversi skor FICO ke kategori kredit\n",
    "def categorize_fico(score):\n",
    "    if 800 <= score <= 850:\n",
    "        return 'Excellent'\n",
    "    elif 740 <= score < 800:\n",
    "        return 'Very Good'\n",
    "    elif 670 <= score < 740:\n",
    "        return 'Good'\n",
    "    elif 580 <= score < 670:\n",
    "        return 'Fair'\n",
    "    elif 300 <= score < 580:\n",
    "        return 'Poor'\n",
    "    return 'Excluded'\n",
    "\n",
    "# Menambahkan kategori FICO Score ke dalam dataframe hasil prediksi (menggunakan model Linear Regression)\n",
    "lr_test = pd.DataFrame({\n",
    "    'Actual FICO Score': y_test,  # Kolom berisi nilai FICO Score asli (dari dataset)\n",
    "    'Predicted FICO Score': predictions['Linear Regression']  # Menggunakan prediksi dari model Linear Regression\n",
    "})\n",
    "\n",
    "# Mengonversi hasil prediksi ke kategori FICO Score\n",
    "lr_test['Predicted Category'] = lr_test['Predicted FICO Score'].apply(categorize_fico)\n",
    "\n",
    "# Menampilkan beberapa hasil\n",
    "print(lr_test.head())\n"
   ]
  },
  {
   "cell_type": "code",
   "execution_count": null,
   "metadata": {},
   "outputs": [],
   "source": []
  }
 ],
 "metadata": {
  "kernelspec": {
   "display_name": "Python 3",
   "language": "python",
   "name": "python3"
  },
  "language_info": {
   "codemirror_mode": {
    "name": "ipython",
    "version": 3
   },
   "file_extension": ".py",
   "mimetype": "text/x-python",
   "name": "python",
   "nbconvert_exporter": "python",
   "pygments_lexer": "ipython3",
   "version": "3.12.4"
  }
 },
 "nbformat": 4,
 "nbformat_minor": 2
}
